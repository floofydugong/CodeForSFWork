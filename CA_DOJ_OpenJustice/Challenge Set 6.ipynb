{
 "cells": [
  {
   "cell_type": "raw",
   "metadata": {},
   "source": [
    "Challenge Set 6\n",
    "Topic:        Classification Metrics\n",
    "Date:         08/07/2016\n",
    "Name:         John Huynh\n",
    "Worked with:  N/A"
   ]
  },
  {
   "cell_type": "code",
   "execution_count": 52,
   "metadata": {
    "collapsed": false
   },
   "outputs": [],
   "source": [
    "# misc\n",
    "import wget\n",
    "import pandas as pd\n",
    "from pprint import pprint\n",
    "import numpy as np\n",
    "\n",
    "# graphing\n",
    "import matplotlib.pyplot as plt\n",
    "\n",
    "# sklearn imports\n",
    "from sklearn.cross_validation import train_test_split\n",
    "from sklearn.cross_validation import cross_val_score\n",
    "from sklearn.metrics import accuracy_score,precision_recall_fscore_support,classification_report\n",
    "from sklearn.metrics import precision_recall_curve,roc_auc_score,roc_curve\n",
    "from sklearn.learning_curve import learning_curve\n",
    "from sklearn import preprocessing\n",
    "\n",
    "# models\n",
    "from sklearn.linear_model import LogisticRegression\n",
    "from sklearn.neighbors import KNeighborsClassifier\n",
    "from sklearn.naive_bayes import GaussianNB\n",
    "from sklearn.svm import SVC\n",
    "from sklearn.tree import DecisionTreeClassifier\n",
    "from sklearn.ensemble import RandomForestClassifier\n",
    "\n",
    "%matplotlib inline"
   ]
  },
  {
   "cell_type": "markdown",
   "metadata": {},
   "source": [
    "**Challenge 1** / **Challenge 2**\n",
    "\n",
    "For the house representatives data set, calculate the accuracy, precision, recall and f1 scores of each classifier you built (on the test set).\n",
    "\n",
    "For each, draw the Precision-Recall curve, ROC curve and calculate the AUC."
   ]
  },
  {
   "cell_type": "code",
   "execution_count": 2,
   "metadata": {
    "collapsed": true
   },
   "outputs": [],
   "source": [
    "# congress_voting_data = wget.download(\"https://archive.ics.uci.edu/ml/machine-learning-databases/voting-records/house-votes-84.data\",out=\"congress_data.csv\")"
   ]
  },
  {
   "cell_type": "code",
   "execution_count": 3,
   "metadata": {
    "collapsed": false
   },
   "outputs": [
    {
     "data": {
      "text/html": [
       "<div>\n",
       "<table border=\"1\" class=\"dataframe\">\n",
       "  <thead>\n",
       "    <tr style=\"text-align: right;\">\n",
       "      <th></th>\n",
       "      <th>Party</th>\n",
       "      <th>Vote1</th>\n",
       "      <th>Vote2</th>\n",
       "      <th>Vote3</th>\n",
       "      <th>Vote4</th>\n",
       "      <th>Vote5</th>\n",
       "      <th>Vote6</th>\n",
       "      <th>Vote7</th>\n",
       "      <th>Vote8</th>\n",
       "      <th>Vote9</th>\n",
       "      <th>Vote10</th>\n",
       "      <th>Vote11</th>\n",
       "      <th>Vote12</th>\n",
       "      <th>Vote13</th>\n",
       "      <th>Vote14</th>\n",
       "      <th>Vote15</th>\n",
       "      <th>Vote16</th>\n",
       "    </tr>\n",
       "  </thead>\n",
       "  <tbody>\n",
       "    <tr>\n",
       "      <th>0</th>\n",
       "      <td>republican</td>\n",
       "      <td>n</td>\n",
       "      <td>y</td>\n",
       "      <td>n</td>\n",
       "      <td>y</td>\n",
       "      <td>y</td>\n",
       "      <td>y</td>\n",
       "      <td>n</td>\n",
       "      <td>n</td>\n",
       "      <td>n</td>\n",
       "      <td>y</td>\n",
       "      <td>?</td>\n",
       "      <td>y</td>\n",
       "      <td>y</td>\n",
       "      <td>y</td>\n",
       "      <td>n</td>\n",
       "      <td>y</td>\n",
       "    </tr>\n",
       "  </tbody>\n",
       "</table>\n",
       "</div>"
      ],
      "text/plain": [
       "        Party Vote1 Vote2 Vote3 Vote4 Vote5 Vote6 Vote7 Vote8 Vote9 Vote10  \\\n",
       "0  republican     n     y     n     y     y     y     n     n     n      y   \n",
       "\n",
       "  Vote11 Vote12 Vote13 Vote14 Vote15 Vote16  \n",
       "0      ?      y      y      y      n      y  "
      ]
     },
     "execution_count": 3,
     "metadata": {},
     "output_type": "execute_result"
    }
   ],
   "source": [
    "col_names = [\"Party\",\n",
    "             'Vote1',\n",
    "             'Vote2',\n",
    "             'Vote3',\n",
    "             'Vote4',\n",
    "             'Vote5',\n",
    "             'Vote6',\n",
    "             'Vote7',\n",
    "             'Vote8',\n",
    "             'Vote9',\n",
    "             'Vote10',\n",
    "             'Vote11',\n",
    "             'Vote12',\n",
    "             'Vote13',\n",
    "             'Vote14',\n",
    "             'Vote15',\n",
    "             'Vote16']\n",
    "\n",
    "congress_votes_df = pd.read_csv(\"congress_data.csv\",\n",
    "                                names = col_names)\n",
    "\n",
    "congress_votes_df.head(1)"
   ]
  },
  {
   "cell_type": "code",
   "execution_count": 4,
   "metadata": {
    "collapsed": false
   },
   "outputs": [
    {
     "data": {
      "text/html": [
       "<div>\n",
       "<table border=\"1\" class=\"dataframe\">\n",
       "  <thead>\n",
       "    <tr style=\"text-align: right;\">\n",
       "      <th></th>\n",
       "      <th>Party</th>\n",
       "      <th>Vote1</th>\n",
       "      <th>Vote2</th>\n",
       "      <th>Vote3</th>\n",
       "      <th>Vote4</th>\n",
       "      <th>Vote5</th>\n",
       "      <th>Vote6</th>\n",
       "      <th>Vote7</th>\n",
       "      <th>Vote8</th>\n",
       "      <th>Vote9</th>\n",
       "      <th>Vote10</th>\n",
       "      <th>Vote11</th>\n",
       "      <th>Vote12</th>\n",
       "      <th>Vote13</th>\n",
       "      <th>Vote14</th>\n",
       "      <th>Vote15</th>\n",
       "      <th>Vote16</th>\n",
       "    </tr>\n",
       "  </thead>\n",
       "  <tbody>\n",
       "    <tr>\n",
       "      <th>0</th>\n",
       "      <td>republican</td>\n",
       "      <td>0.0</td>\n",
       "      <td>1.0</td>\n",
       "      <td>0.0</td>\n",
       "      <td>1.0</td>\n",
       "      <td>1.0</td>\n",
       "      <td>1.0</td>\n",
       "      <td>0.0</td>\n",
       "      <td>0.0</td>\n",
       "      <td>0.0</td>\n",
       "      <td>1.0</td>\n",
       "      <td>NaN</td>\n",
       "      <td>1.0</td>\n",
       "      <td>1.0</td>\n",
       "      <td>1.0</td>\n",
       "      <td>0.0</td>\n",
       "      <td>1.0</td>\n",
       "    </tr>\n",
       "  </tbody>\n",
       "</table>\n",
       "</div>"
      ],
      "text/plain": [
       "        Party  Vote1  Vote2  Vote3  Vote4  Vote5  Vote6  Vote7  Vote8  Vote9  \\\n",
       "0  republican    0.0    1.0    0.0    1.0    1.0    1.0    0.0    0.0    0.0   \n",
       "\n",
       "   Vote10  Vote11  Vote12  Vote13  Vote14  Vote15  Vote16  \n",
       "0     1.0     NaN     1.0     1.0     1.0     0.0     1.0  "
      ]
     },
     "execution_count": 4,
     "metadata": {},
     "output_type": "execute_result"
    }
   ],
   "source": [
    "# Changing 1 to yes and 0 to no\n",
    "change_yes_no = {\"y\":1,\n",
    "                 \"n\":0}\n",
    "\n",
    "for col in congress_votes_df.columns[1:]:\n",
    "    congress_votes_df[col] = congress_votes_df[col].map(change_yes_no)\n",
    "congress_votes_df.head(1)\n",
    "# congress_votes_df.info()"
   ]
  },
  {
   "cell_type": "code",
   "execution_count": 5,
   "metadata": {
    "collapsed": false
   },
   "outputs": [
    {
     "data": {
      "text/html": [
       "<div>\n",
       "<table border=\"1\" class=\"dataframe\">\n",
       "  <thead>\n",
       "    <tr style=\"text-align: right;\">\n",
       "      <th></th>\n",
       "      <th>Party</th>\n",
       "      <th>Vote1</th>\n",
       "      <th>Vote2</th>\n",
       "      <th>Vote3</th>\n",
       "      <th>Vote4</th>\n",
       "      <th>Vote5</th>\n",
       "      <th>Vote6</th>\n",
       "      <th>Vote7</th>\n",
       "      <th>Vote8</th>\n",
       "      <th>Vote9</th>\n",
       "      <th>Vote10</th>\n",
       "      <th>Vote11</th>\n",
       "      <th>Vote12</th>\n",
       "      <th>Vote13</th>\n",
       "      <th>Vote14</th>\n",
       "      <th>Vote15</th>\n",
       "      <th>Vote16</th>\n",
       "    </tr>\n",
       "  </thead>\n",
       "  <tbody>\n",
       "    <tr>\n",
       "      <th>0</th>\n",
       "      <td>republican</td>\n",
       "      <td>0.0</td>\n",
       "      <td>1.0</td>\n",
       "      <td>0.0</td>\n",
       "      <td>1.0</td>\n",
       "      <td>1.0</td>\n",
       "      <td>1.0</td>\n",
       "      <td>0.0</td>\n",
       "      <td>0.0</td>\n",
       "      <td>0.0</td>\n",
       "      <td>1.0</td>\n",
       "      <td>0.362319</td>\n",
       "      <td>1.0</td>\n",
       "      <td>1.0</td>\n",
       "      <td>1.0</td>\n",
       "      <td>0.0</td>\n",
       "      <td>1.0</td>\n",
       "    </tr>\n",
       "  </tbody>\n",
       "</table>\n",
       "</div>"
      ],
      "text/plain": [
       "        Party  Vote1  Vote2  Vote3  Vote4  Vote5  Vote6  Vote7  Vote8  Vote9  \\\n",
       "0  republican    0.0    1.0    0.0    1.0    1.0    1.0    0.0    0.0    0.0   \n",
       "\n",
       "   Vote10    Vote11  Vote12  Vote13  Vote14  Vote15  Vote16  \n",
       "0     1.0  0.362319     1.0     1.0     1.0     0.0     1.0  "
      ]
     },
     "execution_count": 5,
     "metadata": {},
     "output_type": "execute_result"
    }
   ],
   "source": [
    "congress_votes_df.fillna(congress_votes_df.mean(),inplace=True)\n",
    "congress_votes_df.head(1)"
   ]
  },
  {
   "cell_type": "code",
   "execution_count": 23,
   "metadata": {
    "collapsed": false,
    "scrolled": false
   },
   "outputs": [
    {
     "name": "stdout",
     "output_type": "stream",
     "text": [
      "GaussianNB\n",
      "             precision    recall  f1-score   support\n",
      "\n",
      "          0       0.92      0.99      0.95        77\n",
      "          1       0.98      0.87      0.92        54\n",
      "\n",
      "avg / total       0.94      0.94      0.94       131\n",
      "\n",
      "SVC\n",
      "             precision    recall  f1-score   support\n",
      "\n",
      "          0       0.95      0.97      0.96        77\n",
      "          1       0.96      0.93      0.94        54\n",
      "\n",
      "avg / total       0.95      0.95      0.95       131\n",
      "\n",
      "DecisionTreeClassifier\n",
      "             precision    recall  f1-score   support\n",
      "\n",
      "          0       0.94      0.97      0.96        77\n",
      "          1       0.96      0.91      0.93        54\n",
      "\n",
      "avg / total       0.95      0.95      0.95       131\n",
      "\n",
      "RandomForestClassifier\n",
      "             precision    recall  f1-score   support\n",
      "\n",
      "          0       0.94      0.99      0.96        77\n",
      "          1       0.98      0.91      0.94        54\n",
      "\n",
      "avg / total       0.96      0.95      0.95       131\n",
      "\n",
      "LogisticRegression\n",
      "             precision    recall  f1-score   support\n",
      "\n",
      "          0       0.93      0.97      0.95        77\n",
      "          1       0.96      0.89      0.92        54\n",
      "\n",
      "avg / total       0.94      0.94      0.94       131\n",
      "\n",
      "KNeighborsClassifier\n",
      "             precision    recall  f1-score   support\n",
      "\n",
      "          0       0.93      0.96      0.94        77\n",
      "          1       0.94      0.89      0.91        54\n",
      "\n",
      "avg / total       0.93      0.93      0.93       131\n",
      "\n",
      "               Model_Name       AUC\n",
      "1                     SVC  0.994949\n",
      "3  RandomForestClassifier  0.994468\n",
      "4      LogisticRegression  0.987734\n",
      "0              GaussianNB  0.951058\n",
      "5    KNeighborsClassifier  0.948413\n",
      "2  DecisionTreeClassifier  0.940717\n",
      "\n",
      "\n",
      "               Model_Name  Accuracy_Score\n",
      "1                     SVC        0.954198\n",
      "3  RandomForestClassifier        0.954198\n",
      "2  DecisionTreeClassifier        0.946565\n",
      "0              GaussianNB        0.938931\n",
      "4      LogisticRegression        0.938931\n",
      "5    KNeighborsClassifier        0.931298\n"
     ]
    },
    {
     "data": {
      "image/png": "[encoded data removed]",
      "text/plain": [
       "<matplotlib.figure.Figure at 0x11b062eb8>"
      ]
     },
     "metadata": {},
     "output_type": "display_data"
    }
   ],
   "source": [
    "# Reminder : You had to split/train you own set\n",
    "features = congress_votes_df.iloc[:,1:]\n",
    "target = congress_votes_df['Party']\n",
    "\n",
    "label_encoder = preprocessing.LabelEncoder()\n",
    "target = label_encoder.fit_transform(target)\n",
    "\n",
    "X_train, X_test, y_train, y_test = train_test_split(features, target, test_size=.30, random_state=4444)\n",
    "\n",
    "list_of_model_names = ['GaussianNB','SVC','DecisionTreeClassifier','RandomForestClassifier','LogisticRegression','KNeighborsClassifier']\n",
    "\n",
    "list_of_models = [GaussianNB(),SVC(probability=True),DecisionTreeClassifier(),RandomForestClassifier(),LogisticRegression(),\n",
    "                  KNeighborsClassifier(n_neighbors=6)]\n",
    "\n",
    "list_of_scores = []\n",
    "list_of_auc_scores = []\n",
    "\n",
    "f,(ax1, ax2) = plt.subplots(1, 2, figsize=(12,6))\n",
    "\n",
    "for name, model in zip(list_of_models,list_of_model_names):\n",
    "    name.fit(X_train,y_train)\n",
    "    y_pred = name.predict(X_test)\n",
    "    y_pred_probs = name.predict_proba(X_test)\n",
    "    score = (accuracy_score(y_test, y_pred))\n",
    "    list_of_scores.append(score)\n",
    "    \n",
    "    print(model)\n",
    "    print(classification_report(y_test, y_pred))\n",
    "    # Note: 1 = Republican, 0 = Democrat\n",
    "    precision, recall, thresholds = precision_recall_curve(y_test,[i[1] for i in y_pred_probs])\n",
    "    \n",
    "    ax1.plot(precision,recall)\n",
    "    ax1.legend(list_of_model_names,loc='best')\n",
    "    ax1.set_title('Precision vs Recall Graph',fontsize=20)\n",
    "    ax1.set_xlabel('Precision',fontsize=15)\n",
    "    ax1.set_ylabel('Recall',fontsize=15)\n",
    "    \n",
    "    fpr, tpr, thresholds = (roc_curve(y_test,[i[1] for i in y_pred_probs]))\n",
    "        \n",
    "    ax2.set_title('ROC Curve',fontsize=20)\n",
    "    ax2.set_xlabel('FPR',fontsize=15)\n",
    "    ax2.set_ylabel('TPR',fontsize=15)\n",
    "    ax2.plot(fpr,tpr)\n",
    "\n",
    "    list_of_auc_scores.append(roc_auc_score(y_test,[i[1] for i in y_pred_probs]))\n",
    "\n",
    "auc_answers = pd.DataFrame(list(zip(list_of_model_names, list_of_auc_scores)),columns=['Model_Name','AUC'])\n",
    "model_answers = pd.DataFrame(list(zip(list_of_model_names, list_of_scores)),columns=['Model_Name','Accuracy_Score'])\n",
    "print(auc_answers.sort_values(by='AUC',ascending=False))\n",
    "print('\\n')\n",
    "print(model_answers.sort_values(by='Accuracy_Score',ascending=False))"
   ]
  },
  {
   "cell_type": "markdown",
   "metadata": {},
   "source": [
    "**Challenge 3**\n",
    "\n",
    "Calculate the same metrics you did in challenge 1, but this time in a cross validation scheme with the cross_val_score function (like in Challenge 9)"
   ]
  },
  {
   "cell_type": "code",
   "execution_count": 47,
   "metadata": {
    "collapsed": false
   },
   "outputs": [
    {
     "name": "stdout",
     "output_type": "stream",
     "text": [
      "                        accuracy  precision    recall        f1\n",
      "GaussianNB              0.931034   0.908613  0.916667  0.911185\n",
      "SVC                     0.954023   0.922271  0.964286  0.942184\n",
      "DecisionTreeClassifier  0.947126   0.937278  0.952381  0.939054\n",
      "RandomForestClassifier  0.958621   0.942014  0.946429  0.950357\n",
      "LogisticRegression      0.960920   0.949399  0.952381  0.950059\n",
      "KNeighborsClassifier    0.933333   0.897096  0.934524  0.915323\n"
     ]
    }
   ],
   "source": [
    "list_of_models = [GaussianNB(),SVC(probability=True),DecisionTreeClassifier(),RandomForestClassifier(),LogisticRegression(),\n",
    "                  KNeighborsClassifier(n_neighbors=6)]\n",
    "\n",
    "list_of_model_names = ['GaussianNB','SVC','DecisionTreeClassifier','RandomForestClassifier','LogisticRegression','KNeighborsClassifier']\n",
    "\n",
    "scording_method = ['accuracy','precision','recall','f1']\n",
    "\n",
    "frames = []\n",
    "for name in list_of_models:\n",
    "    cross_val_mean = []\n",
    "    for method in scording_method:\n",
    "        cross_val_mean.append(cross_val_score(name,features,target,scoring=method).mean())\n",
    "    df = pd.DataFrame(cross_val_mean)\n",
    "    frames.append(df.transpose())\n",
    "\n",
    "final_answer = pd.concat(frames)\n",
    "final_answer.columns = [scording_method]\n",
    "final_answer.index = list_of_model_names\n",
    "print(final_answer)"
   ]
  },
  {
   "cell_type": "markdown",
   "metadata": {},
   "source": [
    "**Challenge 4**\n",
    "\n",
    "Draw the Precision-Recall curve, ROC curve (and calculate AUC) for the logistic regression classifier from challenge 11 in 05-Classification Challenge that uses [Haberman Survival Dataset](https://archive.ics.uci.edu/ml/datasets/Haberman%27s+Survival)"
   ]
  },
  {
   "cell_type": "code",
   "execution_count": 8,
   "metadata": {
    "collapsed": true
   },
   "outputs": [],
   "source": [
    "# survival_data = wget.download('https://archive.ics.uci.edu/ml/machine-learning-databases/haberman/haberman.data',out='survival_data.csv')"
   ]
  },
  {
   "cell_type": "code",
   "execution_count": 9,
   "metadata": {
    "collapsed": false
   },
   "outputs": [
    {
     "data": {
      "text/html": [
       "<div>\n",
       "<table border=\"1\" class=\"dataframe\">\n",
       "  <thead>\n",
       "    <tr style=\"text-align: right;\">\n",
       "      <th></th>\n",
       "      <th>Age</th>\n",
       "      <th>Year_1900</th>\n",
       "      <th>Positive_Aux_Nodes</th>\n",
       "      <th>Survival_Status</th>\n",
       "    </tr>\n",
       "  </thead>\n",
       "  <tbody>\n",
       "    <tr>\n",
       "      <th>0</th>\n",
       "      <td>30</td>\n",
       "      <td>64</td>\n",
       "      <td>1</td>\n",
       "      <td>1</td>\n",
       "    </tr>\n",
       "    <tr>\n",
       "      <th>1</th>\n",
       "      <td>30</td>\n",
       "      <td>62</td>\n",
       "      <td>3</td>\n",
       "      <td>1</td>\n",
       "    </tr>\n",
       "    <tr>\n",
       "      <th>2</th>\n",
       "      <td>30</td>\n",
       "      <td>65</td>\n",
       "      <td>0</td>\n",
       "      <td>1</td>\n",
       "    </tr>\n",
       "    <tr>\n",
       "      <th>3</th>\n",
       "      <td>31</td>\n",
       "      <td>59</td>\n",
       "      <td>2</td>\n",
       "      <td>1</td>\n",
       "    </tr>\n",
       "    <tr>\n",
       "      <th>4</th>\n",
       "      <td>31</td>\n",
       "      <td>65</td>\n",
       "      <td>4</td>\n",
       "      <td>1</td>\n",
       "    </tr>\n",
       "  </tbody>\n",
       "</table>\n",
       "</div>"
      ],
      "text/plain": [
       "   Age  Year_1900  Positive_Aux_Nodes  Survival_Status\n",
       "0   30         64                   1                1\n",
       "1   30         62                   3                1\n",
       "2   30         65                   0                1\n",
       "3   31         59                   2                1\n",
       "4   31         65                   4                1"
      ]
     },
     "execution_count": 9,
     "metadata": {},
     "output_type": "execute_result"
    }
   ],
   "source": [
    "# 1. Age of patient at time of operation (numerical) \n",
    "# 2. Patient's year of operation (year - 1900, numerical) \n",
    "# 3. Number of positive axillary nodes detected (numerical) \n",
    "# 4. Survival status (class attribute) \n",
    "# -- 1 = the patient survived 5 years or longer \n",
    "# -- 2 = the patient died within 5 year\n",
    "\n",
    "breast_cancer_df = pd.read_csv('survival_data.csv', names=['Age','Year_1900','Positive_Aux_Nodes','Survival_Status'])\n",
    "breast_cancer_df.head(5)"
   ]
  },
  {
   "cell_type": "code",
   "execution_count": 10,
   "metadata": {
    "collapsed": false
   },
   "outputs": [
    {
     "name": "stdout",
     "output_type": "stream",
     "text": [
      "LogisticRegression\n",
      "             precision    recall  f1-score   support\n",
      "\n",
      "          0       0.81      1.00      0.90        74\n",
      "          1       1.00      0.06      0.11        18\n",
      "\n",
      "avg / total       0.85      0.82      0.74        92\n",
      "\n",
      "           Model_Name       AUC\n",
      "0  LogisticRegression  0.647523\n",
      "\n",
      "\n",
      "           Model_Name  Accuracy_Score\n",
      "0  LogisticRegression        0.815217\n"
     ]
    },
    {
     "data": {
      "image/png": "[encoded data removed]",
      "text/plain": [
       "<matplotlib.figure.Figure at 0x11730ad68>"
      ]
     },
     "metadata": {},
     "output_type": "display_data"
    },
    {
     "data": {
      "image/png": "[encoded data removed]",
      "text/plain": [
       "<matplotlib.figure.Figure at 0x11a650a58>"
      ]
     },
     "metadata": {},
     "output_type": "display_data"
    }
   ],
   "source": [
    "# Reminder : You had to split/train you own set\n",
    "features = breast_cancer_df.iloc[:,0:3]\n",
    "target = breast_cancer_df['Survival_Status']\n",
    "\n",
    "label_encoder = preprocessing.LabelEncoder()\n",
    "target = label_encoder.fit_transform(target)\n",
    "\n",
    "X_train, X_test, y_train, y_test = train_test_split(features, target, test_size=.30, random_state=4444)\n",
    "\n",
    "list_of_model_names = ['LogisticRegression']\n",
    "\n",
    "list_of_models = [LogisticRegression()]\n",
    "list_of_scores = []\n",
    "list_of_auc_scores = []\n",
    "\n",
    "plt.figure(figsize=(8,8))\n",
    "for name, model in zip(list_of_models,list_of_model_names):\n",
    "    name.fit(X_train,y_train)\n",
    "    y_pred = name.predict(X_test)\n",
    "    y_pred_probs = name.predict_proba(X_test)\n",
    "    score = (accuracy_score(y_test, y_pred))\n",
    "    list_of_scores.append(score)\n",
    "    \n",
    "    print(model)\n",
    "    print(classification_report(y_test, y_pred))\n",
    "    # Note: 1 = Republican, 0 = Democrat\n",
    "    precision, recall, thresholds = precision_recall_curve(y_test,[i[1] for i in y_pred_probs])\n",
    "    \n",
    "    plt.plot(precision,recall)\n",
    "    plt.title('Precision vs Recall Graph',fontsize=20)\n",
    "    plt.xlabel('Precision',fontsize=15)\n",
    "    plt.ylabel('Recall',fontsize=15)\n",
    "\n",
    "    list_of_auc_scores.append(roc_auc_score(y_test,[i[1] for i in y_pred_probs]))\n",
    "    \n",
    "    fpr, tpr, thresholds = (roc_curve(y_test,[i[1] for i in y_pred_probs]))\n",
    "    \n",
    "    plt.figure(figsize=(8,8))\n",
    "    plt.title('ROC Curve',fontsize=20)\n",
    "    plt.xlabel('FPR',fontsize=15)\n",
    "    plt.ylabel('TPR',fontsize=15)\n",
    "    plt.plot(fpr,tpr)\n",
    "\n",
    "auc_answers = pd.DataFrame(list(zip(list_of_model_names, list_of_auc_scores)),columns=['Model_Name','AUC'])\n",
    "model_answers = pd.DataFrame(list(zip(list_of_model_names, list_of_scores)),columns=['Model_Name','Accuracy_Score'])\n",
    "print(auc_answers.sort_values(by='AUC',ascending=False))\n",
    "print('\\n')\n",
    "print(model_answers.sort_values(by='Accuracy_Score',ascending=False))"
   ]
  }
 ],
 "metadata": {
  "kernelspec": {
   "display_name": "Python 3",
   "language": "python",
   "name": "python3"
  },
  "language_info": {
   "codemirror_mode": {
    "name": "ipython",
    "version": 3
   },
   "file_extension": ".py",
   "mimetype": "text/x-python",
   "name": "python",
   "nbconvert_exporter": "python",
   "pygments_lexer": "ipython3",
   "version": "3.5.2"
  }
 },
 "nbformat": 4,
 "nbformat_minor": 0
}
