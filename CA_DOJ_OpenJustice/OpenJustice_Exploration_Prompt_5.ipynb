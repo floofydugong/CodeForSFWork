{
 "cells": [
  {
   "cell_type": "markdown",
   "metadata": {},
   "source": [
    "![](https://github.com/sfbrigade/CA_DOJ_OpenJustice/blob/master/figure/ca_openjustice.png?raw=true)"
   ]
  },
  {
   "cell_type": "markdown",
   "metadata": {},
   "source": [
    "## Prompt"
   ]
  },
  {
   "cell_type": "raw",
   "metadata": {},
   "source": [
    "For resource allocation prompt: ~. predictors to crime rate (i.e. not necessarily optimization; just a first, exploratory step, probably via LM)"
   ]
  },
  {
   "cell_type": "code",
   "execution_count": 28,
   "metadata": {
    "collapsed": true
   },
   "outputs": [],
   "source": [
    "import pandas as pd\n",
    "import matplotlib.pyplot as plt\n",
    "from pprint import pprint\n",
    "import wget\n",
    "\n",
    "import seaborn as sns\n",
    "from sklearn.linear_model import Lasso, Ridge, ElasticNet, LinearRegression\n",
    "from sklearn.cross_validation import cross_val_score, train_test_split, KFold\n",
    "from sklearn.cross_validation import train_test_split\n",
    "from sklearn.cross_validation import cross_val_score\n",
    "from sklearn.metrics import accuracy_score,precision_recall_fscore_support,classification_report\n",
    "from sklearn.metrics import precision_recall_curve,roc_auc_score,roc_curve\n",
    "from sklearn.learning_curve import learning_curve\n",
    "from sklearn import preprocessing\n",
    "from sklearn.grid_search import GridSearchCV\n",
    "\n",
    "%matplotlib inline"
   ]
  },
  {
   "cell_type": "code",
   "execution_count": 14,
   "metadata": {
    "collapsed": false
   },
   "outputs": [
    {
     "data": {
      "text/plain": [
       "'arrest_data_2006-2015.csv'"
      ]
     },
     "execution_count": 14,
     "metadata": {},
     "output_type": "execute_result"
    }
   ],
   "source": [
    "# wget.download(\"http://openjustice.doj.ca.gov/downloads/arrest_data_2006-2015.csv\",out=\"arrest_data_2006-2015.csv\")"
   ]
  },
  {
   "cell_type": "code",
   "execution_count": 15,
   "metadata": {
    "collapsed": true
   },
   "outputs": [],
   "source": [
    "crime_df = pd.read_csv(\"arrest_data_2006-2015.csv\")"
   ]
  },
  {
   "cell_type": "code",
   "execution_count": 6,
   "metadata": {
    "collapsed": true
   },
   "outputs": [],
   "source": [
    "# df = pd.read_csv('ca_doj_arrests_deidentified_2000-2014_05-07-2016/ca_doj_arrests_deidentified_2014_05-07-2016.csv')"
   ]
  },
  {
   "cell_type": "code",
   "execution_count": 26,
   "metadata": {
    "collapsed": false
   },
   "outputs": [
    {
     "name": "stdout",
     "output_type": "stream",
     "text": [
      "<class 'pandas.core.frame.DataFrame'>\n",
      "RangeIndex: 238297 entries, 0 to 238296\n",
      "Data columns (total 82 columns):\n",
      "YEAR          238297 non-null int64\n",
      "NCIC_NAME     238297 non-null object\n",
      "GENDER        238297 non-null object\n",
      "RACE          238297 non-null object\n",
      "AGE_GROUP     238297 non-null object\n",
      "COUNTY        238297 non-null object\n",
      "SCO01_sum     238297 non-null int64\n",
      "SCO02_sum     238297 non-null int64\n",
      "SCO03_sum     238297 non-null int64\n",
      "SCO04_sum     238297 non-null int64\n",
      "SCO05_sum     238297 non-null int64\n",
      "SCO06_sum     238297 non-null int64\n",
      "SCO07_sum     238297 non-null int64\n",
      "SCO08_sum     238297 non-null int64\n",
      "SCO09_sum     238297 non-null int64\n",
      "SCO10_sum     238297 non-null int64\n",
      "SCO11_sum     238297 non-null int64\n",
      "SCO12_sum     238297 non-null int64\n",
      "SCO13_sum     238297 non-null int64\n",
      "SCO14_sum     238297 non-null int64\n",
      "SCO15_sum     238297 non-null int64\n",
      "SCO16_sum     238297 non-null int64\n",
      "SCO17_sum     238297 non-null int64\n",
      "SCO18_sum     238297 non-null int64\n",
      "SCO19_sum     238297 non-null int64\n",
      "SCO20_sum     238297 non-null int64\n",
      "SCO21_sum     238297 non-null int64\n",
      "SCO22_sum     238297 non-null int64\n",
      "SCO23_sum     238297 non-null int64\n",
      "SCO24_sum     238297 non-null int64\n",
      "SCO25_sum     238297 non-null int64\n",
      "SCO29_sum     238297 non-null int64\n",
      "SCO30_sum     238297 non-null int64\n",
      "SCO31_sum     238297 non-null int64\n",
      "SCO32_sum     238297 non-null int64\n",
      "SCO33_sum     238297 non-null int64\n",
      "SCO34_sum     238297 non-null int64\n",
      "SCO35_sum     238297 non-null int64\n",
      "SCO36_sum     238297 non-null int64\n",
      "SCO37_sum     238297 non-null int64\n",
      "SCO38_sum     238297 non-null int64\n",
      "SCO39_sum     238297 non-null int64\n",
      "SCO40_sum     238297 non-null int64\n",
      "SCO41_sum     238297 non-null int64\n",
      "SCO42_sum     238297 non-null int64\n",
      "SCO43_sum     238297 non-null int64\n",
      "SCO44_sum     238297 non-null int64\n",
      "SCO45_sum     238297 non-null int64\n",
      "SCO46_sum     238297 non-null int64\n",
      "SCO47_sum     238297 non-null int64\n",
      "SCO48_sum     238297 non-null int64\n",
      "SCO49_sum     238297 non-null int64\n",
      "SCO50_sum     238297 non-null int64\n",
      "SCO51_sum     238297 non-null int64\n",
      "SCO52_sum     238297 non-null int64\n",
      "SCO53_sum     238297 non-null int64\n",
      "SCO54_sum     238297 non-null int64\n",
      "SCO55_sum     238297 non-null int64\n",
      "SCO56_sum     238297 non-null int64\n",
      "SCO57_sum     238297 non-null int64\n",
      "SCO58_sum     238297 non-null int64\n",
      "SCO59_sum     238297 non-null int64\n",
      "SCO60_sum     238297 non-null int64\n",
      "SCO61_sum     238297 non-null int64\n",
      "SCO62_sum     238297 non-null int64\n",
      "SCO63_sum     238297 non-null int64\n",
      "SCO64_sum     238297 non-null int64\n",
      "SCO68_sum     238297 non-null int64\n",
      "SCO69_sum     238297 non-null int64\n",
      "SCO70_sum     238297 non-null int64\n",
      "SCO71_sum     238297 non-null int64\n",
      "SCO72_sum     238297 non-null int64\n",
      "SCO76_sum     238297 non-null int64\n",
      "HOMICIDE      238297 non-null int64\n",
      "VIOLENT       238297 non-null int64\n",
      "PROPERTY      238297 non-null int64\n",
      "F_DRUGOFF     238297 non-null int64\n",
      "F_SEXOFF      238297 non-null int64\n",
      "F_ALLOTHER    238297 non-null int64\n",
      "F_TOTAL       238297 non-null int64\n",
      "M_TOTAL       238297 non-null int64\n",
      "S_TOTAL       238297 non-null int64\n",
      "dtypes: int64(77), object(5)\n",
      "memory usage: 149.1+ MB\n"
     ]
    }
   ],
   "source": [
    "crime_df.info()\n",
    "# crime_df.types\n",
    "# crime_df.columns"
   ]
  },
  {
   "cell_type": "markdown",
   "metadata": {},
   "source": [
    "## Pair Plot Code"
   ]
  },
  {
   "cell_type": "code",
   "execution_count": null,
   "metadata": {
    "collapsed": true
   },
   "outputs": [],
   "source": [
    "# sns.pairplot(regression_data)\n",
    "# plt.savefig('/Users/Hayw1re/ds/metis/classwork/sf16_ds3/projects/02-luther/submissions/floofydugong/{}'.format(\"PairPlot.png\"))"
   ]
  },
  {
   "cell_type": "markdown",
   "metadata": {},
   "source": [
    "## Linear Regression Code"
   ]
  },
  {
   "cell_type": "code",
   "execution_count": 29,
   "metadata": {
    "collapsed": true
   },
   "outputs": [],
   "source": [
    "# movie_target = regression_data.LifetimeGross\n",
    "\n",
    "# X_train, X_test, y_train, y_test = cross_validation.train_test_split(\n",
    "#                                         regression_data[features], movie_target, test_size=0.3,random_state=42)\n",
    "\n",
    "# # Models\n",
    "# models = {}\n",
    "# models['lin_reg'] = LinearRegression()\n",
    "# models['ridge'] = Ridge()\n",
    "# models['lasso'] = Lasso()\n",
    "# models['elasticnet'] = ElasticNet()\n",
    "\n",
    "# shuffler = cross_validation.ShuffleSplit(len(regression_data),n_iter=10, test_size =.3,random_state=42)\n",
    "\n",
    "# for name, model in models.items():\n",
    "#     score = cross_validation.cross_val_score(model, regression_data[features], movie_target ,n_jobs=1,cv=shuffler)\n",
    "#     model.fit(X_train,y_train)\n",
    "#     print('Model : ' + name)\n",
    "#     print('Score : ' + str(np.mean(score)) + ' with STD : ' + str(np.std(score)))\n",
    "    \n",
    "#     predicted_vals = model.predict(X_test)\n",
    "\n",
    "#     plt.figure(figsize=(10,10))\n",
    "\n",
    "#     sns.regplot(predicted_vals,y_test,scatter_kws={'alpha':0.2})\n",
    "#     plt.title(\"Predicted Earnings vs Actual Earnings\", fontsize=\"20\")\n",
    "#     plt.xlabel(\"Predicted Earnings\",fontsize=\"15\")\n",
    "#     plt.ylabel(\"Actual Earnings\",fontsize=\"15\")\n",
    "#     plt.show()\n",
    "    \n",
    "#     sorted_features = sorted((zip(features,model.coef_)),key=lambda tup: tup[1], reverse=True)\n",
    "\n",
    "#     for feature in sorted_features:\n",
    "#         print (feature)\n",
    "#     print()"
   ]
  }
 ],
 "metadata": {
  "kernelspec": {
   "display_name": "Python 3",
   "language": "python",
   "name": "python3"
  },
  "language_info": {
   "codemirror_mode": {
    "name": "ipython",
    "version": 3
   },
   "file_extension": ".py",
   "mimetype": "text/x-python",
   "name": "python",
   "nbconvert_exporter": "python",
   "pygments_lexer": "ipython3",
   "version": "3.5.2"
  }
 },
 "nbformat": 4,
 "nbformat_minor": 0
}
